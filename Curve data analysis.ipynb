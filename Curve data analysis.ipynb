{
 "cells": [
  {
   "cell_type": "code",
   "execution_count": 1,
   "id": "4201d95c-289d-4270-985d-2a6f1b1f5e5f",
   "metadata": {},
   "outputs": [
    {
     "name": "stdout",
     "output_type": "stream",
     "text": [
      " Excluded governance smart contracts. Processed 997 active governance holders.\n"
     ]
    }
   ],
   "source": [
    "import pandas as pd\n",
    "import numpy as np\n",
    "df = pd.read_csv(\"curve_token_distribution.csv\")\n",
    "# smart contract addresses excluding system addresses (Voting Escrow and Vesting Escrow)\n",
    "excluded_addresses = [\n",
    "    \"Voting Escrow\", \n",
    "    \"Curve Vesting Escrow\"]\n",
    "df_filtered = df[~df[\"addressNames\"].isin(excluded_addresses)]\n",
    "print(f\" Excluded governance smart contracts. Processed {len(df_filtered)} active governance holders.\")"
   ]
  },
  {
   "cell_type": "code",
   "execution_count": 3,
   "id": "ec4c184e-5c45-4739-9ef0-16c58f555c2e",
   "metadata": {},
   "outputs": [
    {
     "name": "stdout",
     "output_type": "stream",
     "text": [
      "🔹 Nakamoto Coefficient: 23\n",
      "🔹 Gini Coefficient: 0.8402\n"
     ]
    }
   ],
   "source": [
    "def gini_coefficient(balances):\n",
    "    \"\"\"Calculate the Gini Coefficient for CRV token balances.\"\"\"\n",
    "    balances = np.sort(balances) \n",
    "    n = len(balances)\n",
    "    cumulative_sum = np.cumsum(balances)\n",
    "    gini = (2 * np.sum((np.arange(1, n + 1) * balances))) / (n * np.sum(balances)) - (n + 1) / n\n",
    "    return gini\n",
    "\n",
    "def nakamoto_coefficient(balances, total_supply):\n",
    "    \"\"\"Calculate the Nakamoto Coefficient: Number of top holders controlling >50% of supply.\"\"\"\n",
    "    sorted_balances = np.sort(balances)[::-1]  # Sort balances in descending order\n",
    "    cumulative_share = np.cumsum(sorted_balances) / total_supply\n",
    "    return np.argmax(cumulative_share >= 0.5) + 1  # Minimum number of holders needed for >50% control\n",
    "\n",
    "balances = df_filtered['poolholdings'].values\n",
    "total_crv_supply = df_filtered[\"poolholdings\"].sum()\n",
    "\n",
    "\n",
    "nakamoto = nakamoto_coefficient(balances, total_crv_supply)\n",
    "print(f\"🔹 Nakamoto Coefficient: {nakamoto}\")\n",
    "gini = gini_coefficient(balances)\n",
    "print(f\"🔹 Gini Coefficient: {gini:.4f}\")\n"
   ]
  }
 ],
 "metadata": {
  "kernelspec": {
   "display_name": "Python 3 (ipykernel)",
   "language": "python",
   "name": "python3"
  },
  "language_info": {
   "codemirror_mode": {
    "name": "ipython",
    "version": 3
   },
   "file_extension": ".py",
   "mimetype": "text/x-python",
   "name": "python",
   "nbconvert_exporter": "python",
   "pygments_lexer": "ipython3",
   "version": "3.12.3"
  }
 },
 "nbformat": 4,
 "nbformat_minor": 5
}
